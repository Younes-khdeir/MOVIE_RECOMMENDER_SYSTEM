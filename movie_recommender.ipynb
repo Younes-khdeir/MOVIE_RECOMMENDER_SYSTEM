{
  "nbformat": 4,
  "nbformat_minor": 0,
  "metadata": {
    "colab": {
      "name": "Untitled11.ipynb",
      "provenance": [],
      "authorship_tag": "ABX9TyPJYPvt/NaOc0mOm0w4l7zt",
      "include_colab_link": true
    },
    "kernelspec": {
      "name": "python3",
      "display_name": "Python 3"
    }
  },
  "cells": [
    {
      "cell_type": "markdown",
      "metadata": {
        "id": "view-in-github",
        "colab_type": "text"
      },
      "source": [
        "<a href=\"https://colab.research.google.com/github/akash-ranjan8/MOVIE_RECOMMENDER_SYSTEM/blob/master/movie_recommender.ipynb\" target=\"_parent\"><img src=\"https://colab.research.google.com/assets/colab-badge.svg\" alt=\"Open In Colab\"/></a>"
      ]
    },
    {
      "cell_type": "markdown",
      "metadata": {
        "id": "WfhzCx7mLNCi",
        "colab_type": "text"
      },
      "source": [
        "#MOVIE RECOMMENDER SYSTEM"
      ]
    },
    {
      "cell_type": "markdown",
      "metadata": {
        "id": "aRm5VpUCL0m7",
        "colab_type": "text"
      },
      "source": [
        "#IMPORTING THE LIBRARIES"
      ]
    },
    {
      "cell_type": "code",
      "metadata": {
        "id": "OHwxfLVzL301",
        "colab_type": "code",
        "colab": {}
      },
      "source": [
        "import pandas as pd\n",
        "import numpy as np\n",
        "from sklearn.feature_extraction.text import CountVectorizer\n",
        "from sklearn.metrics.pairwise import cosine_similarity"
      ],
      "execution_count": null,
      "outputs": []
    },
    {
      "cell_type": "markdown",
      "metadata": {
        "id": "Ei_ZnLNpVwaA",
        "colab_type": "text"
      },
      "source": [
        "#HELPER FUNCTION"
      ]
    },
    {
      "cell_type": "code",
      "metadata": {
        "id": "ID37AMjfV0No",
        "colab_type": "code",
        "colab": {}
      },
      "source": [
        "def get_title_from_index(index):\n",
        "\treturn df[df.index == index][\"title\"].values[0]\n",
        "\n",
        "def get_index_from_title(title):\n",
        "\treturn df[df.title == title][\"index\"].values[0]"
      ],
      "execution_count": null,
      "outputs": []
    },
    {
      "cell_type": "markdown",
      "metadata": {
        "id": "R63AIDj6V6e0",
        "colab_type": "text"
      },
      "source": [
        "#READING THE DATASET"
      ]
    },
    {
      "cell_type": "code",
      "metadata": {
        "id": "nWFThqn-V9ei",
        "colab_type": "code",
        "colab": {
          "base_uri": "https://localhost:8080/",
          "height": 121
        },
        "outputId": "39c45ad5-e66b-445e-c439-6f71990dd46c"
      },
      "source": [
        "df = pd.read_csv(\"movie_dataset.csv\")\n",
        "print (df.columns)"
      ],
      "execution_count": null,
      "outputs": [
        {
          "output_type": "stream",
          "text": [
            "Index(['index', 'budget', 'genres', 'homepage', 'id', 'keywords',\n",
            "       'original_language', 'original_title', 'overview', 'popularity',\n",
            "       'production_companies', 'production_countries', 'release_date',\n",
            "       'revenue', 'runtime', 'spoken_languages', 'status', 'tagline', 'title',\n",
            "       'vote_average', 'vote_count', 'cast', 'crew', 'director'],\n",
            "      dtype='object')\n"
          ],
          "name": "stdout"
        }
      ]
    },
    {
      "cell_type": "markdown",
      "metadata": {
        "id": "DXq7UkQIWMLA",
        "colab_type": "text"
      },
      "source": [
        "#SELECTING THE FEATURES"
      ]
    },
    {
      "cell_type": "code",
      "metadata": {
        "id": "WoGrQ3SaWPr0",
        "colab_type": "code",
        "colab": {
          "base_uri": "https://localhost:8080/",
          "height": 121
        },
        "outputId": "b04da57a-f9ba-43eb-e3a6-a251b33655ac"
      },
      "source": [
        "features = ['keywords','cast','genres','director']\n",
        "for feature in features:\n",
        "\tdf[feature] = df[feature].fillna('')\n",
        "\n",
        "def combine_features(row):\n",
        "\ttry:\n",
        "\t\treturn row['keywords'] +\" \"+row['cast']+\" \"+row[\"genres\"]+\" \"+row[\"director\"]\n",
        "\texcept:\n",
        "\t\tprint (\"Error:\", row)\t\n",
        "df[\"combined_features\"] = df.apply(combine_features,axis=1)\n",
        "print (\"Combined Features:\", df[\"combined_features\"].head())\n"
      ],
      "execution_count": null,
      "outputs": [
        {
          "output_type": "stream",
          "text": [
            "Combined Features: 0    culture clash future space war space colony so...\n",
            "1    ocean drug abuse exotic island east india trad...\n",
            "2    spy based on novel secret agent sequel mi6 Dan...\n",
            "3    dc comics crime fighter terrorist secret ident...\n",
            "4    based on novel mars medallion space travel pri...\n",
            "Name: combined_features, dtype: object\n"
          ],
          "name": "stdout"
        }
      ]
    },
    {
      "cell_type": "markdown",
      "metadata": {
        "id": "uy5ix-XVYG-u",
        "colab_type": "text"
      },
      "source": [
        "#Create count matrix from this new combined column"
      ]
    },
    {
      "cell_type": "code",
      "metadata": {
        "id": "lU3912cJYOth",
        "colab_type": "code",
        "colab": {}
      },
      "source": [
        "cv = CountVectorizer()\n",
        "count_matrix = cv.fit_transform(df[\"combined_features\"])"
      ],
      "execution_count": null,
      "outputs": []
    },
    {
      "cell_type": "markdown",
      "metadata": {
        "id": "ljhmNpl_YjUU",
        "colab_type": "text"
      },
      "source": [
        "#Compute the Cosine Similarity based on the count_matrix"
      ]
    },
    {
      "cell_type": "code",
      "metadata": {
        "id": "B-sofepYYo4F",
        "colab_type": "code",
        "colab": {}
      },
      "source": [
        "cosine_sim = cosine_similarity(count_matrix) \n",
        "movie_user_likes = \"Avatar\""
      ],
      "execution_count": null,
      "outputs": []
    },
    {
      "cell_type": "markdown",
      "metadata": {
        "id": "u2KKReGoYwW9",
        "colab_type": "text"
      },
      "source": [
        "#Get index of this movie from its title"
      ]
    },
    {
      "cell_type": "code",
      "metadata": {
        "id": "JDnrtQdSY11b",
        "colab_type": "code",
        "colab": {}
      },
      "source": [
        "movie_index = get_index_from_title(movie_user_likes)\n",
        "similar_movies =  list(enumerate(cosine_sim[movie_index]))"
      ],
      "execution_count": null,
      "outputs": []
    },
    {
      "cell_type": "markdown",
      "metadata": {
        "id": "tm4wQeEpY9U-",
        "colab_type": "text"
      },
      "source": [
        "#Get a list of similar movies in descending order of similarity score"
      ]
    },
    {
      "cell_type": "code",
      "metadata": {
        "id": "ysV4CP6_ZCYd",
        "colab_type": "code",
        "colab": {}
      },
      "source": [
        "sorted_similar_movies = sorted(similar_movies,key=lambda x:x[1],reverse=True)"
      ],
      "execution_count": null,
      "outputs": []
    },
    {
      "cell_type": "markdown",
      "metadata": {
        "id": "ru1QWWgOZI_e",
        "colab_type": "text"
      },
      "source": [
        "#Print titles of first 50 movies"
      ]
    },
    {
      "cell_type": "code",
      "metadata": {
        "id": "f2g_arKjZOva",
        "colab_type": "code",
        "colab": {
          "base_uri": "https://localhost:8080/",
          "height": 901
        },
        "outputId": "ec4f9a1e-f95e-460a-c332-0f443713731e"
      },
      "source": [
        "i=0\n",
        "for element in sorted_similar_movies:\n",
        "\t\tprint (get_title_from_index(element[0]))\n",
        "\t\ti=i+1\n",
        "\t\tif i>50:\n",
        "\t\t\tbreak"
      ],
      "execution_count": null,
      "outputs": [
        {
          "output_type": "stream",
          "text": [
            "Avatar\n",
            "Guardians of the Galaxy\n",
            "Aliens\n",
            "Star Wars: Clone Wars: Volume 1\n",
            "Star Trek Into Darkness\n",
            "Star Trek Beyond\n",
            "Alien\n",
            "Lockout\n",
            "Jason X\n",
            "The Helix... Loaded\n",
            "Moonraker\n",
            "Planet of the Apes\n",
            "Galaxy Quest\n",
            "Gravity\n",
            "Alien³\n",
            "Jupiter Ascending\n",
            "The Wolverine\n",
            "Silent Running\n",
            "Zathura: A Space Adventure\n",
            "Trekkies\n",
            "Cargo\n",
            "Wing Commander\n",
            "Star Trek\n",
            "Lost in Space\n",
            "Babylon A.D.\n",
            "The Fifth Element\n",
            "Oblivion\n",
            "Titan A.E.\n",
            "AVP: Alien vs. Predator\n",
            "The Empire Strikes Back\n",
            "Dragonball Evolution\n",
            "Superman Returns\n",
            "Divergent\n",
            "John Carter\n",
            "The Black Hole\n",
            "The Ice Pirates\n",
            "Memoirs of an Invisible Man\n",
            "Starship Troopers\n",
            "The Astronaut's Wife\n",
            "Machete Kills\n",
            "Soldier\n",
            "The Abyss\n",
            "Damnation Alley\n",
            "Men in Black\n",
            "Space Cowboys\n",
            "Space Dogs\n",
            "The Time Machine\n",
            "Sheena\n",
            "Captain America: Civil War\n",
            "Star Trek: Insurrection\n",
            "Oz: The Great and Powerful\n"
          ],
          "name": "stdout"
        }
      ]
    }
  ]
}